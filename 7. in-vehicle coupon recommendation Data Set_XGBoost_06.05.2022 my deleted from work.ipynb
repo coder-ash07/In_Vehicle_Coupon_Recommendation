{
 "cells": [
  {
   "cell_type": "markdown",
   "id": "9ad86064",
   "metadata": {},
   "source": [
    "# import libraries"
   ]
  },
  {
   "cell_type": "code",
   "execution_count": 1,
   "id": "62130ed7",
   "metadata": {},
   "outputs": [
    {
     "name": "stdout",
     "output_type": "stream",
     "text": [
      "(12529, 59) (12529,)\n"
     ]
    }
   ],
   "source": [
    "import pandas as pd\n",
    "import numpy as np\n",
    "from numpy.random import RandomState\n",
    "import matplotlib.pyplot as plt\n",
    "from tqdm import tqdm\n",
    "\n",
    "seed = 42\n",
    "rng = RandomState(seed)\n",
    "\n",
    "df = pd.read_csv('Model.csv')\n",
    "\n",
    "X, y = df.iloc[:, 1:-1], df.iloc[:, -1]\n",
    "print(X.shape, y.shape)"
   ]
  },
  {
   "cell_type": "code",
   "execution_count": 2,
   "id": "9a932c2d",
   "metadata": {},
   "outputs": [],
   "source": [
    "import re"
   ]
  },
  {
   "cell_type": "markdown",
   "id": "b948da4c",
   "metadata": {},
   "source": [
    "# train-test split"
   ]
  },
  {
   "cell_type": "code",
   "execution_count": 3,
   "id": "5364d985",
   "metadata": {},
   "outputs": [
    {
     "name": "stdout",
     "output_type": "stream",
     "text": [
      "Train set:  (10023, 59) (10023,)\n",
      "Test set:  (2506, 59) (2506,)\n"
     ]
    }
   ],
   "source": [
    "from sklearn.model_selection import train_test_split, cross_val_score\n",
    "\n",
    "X_train, X_test, y_train, y_test = train_test_split(X, y,\n",
    "                                                    test_size=0.2, \n",
    "                                                    random_state=seed)\n",
    "print('Train set: ', X_train.shape, y_train.shape)\n",
    "print('Test set: ', X_test.shape, y_test.shape)"
   ]
  },
  {
   "cell_type": "code",
   "execution_count": 4,
   "id": "9c38b87b",
   "metadata": {},
   "outputs": [
    {
     "data": {
      "text/plain": [
       "61"
      ]
     },
     "execution_count": 4,
     "metadata": {},
     "output_type": "execute_result"
    }
   ],
   "source": [
    "len(df.columns)"
   ]
  },
  {
   "cell_type": "markdown",
   "id": "18ff3480",
   "metadata": {},
   "source": [
    "# changing features names from <, [] to _ because XGBoost cannot handle those feature names with <,[] etc"
   ]
  },
  {
   "cell_type": "code",
   "execution_count": 5,
   "id": "fd6b57a6",
   "metadata": {},
   "outputs": [
    {
     "data": {
      "text/plain": [
       "Index(['Unnamed: 0', 'destination_Home', 'destination_No Urgent Place',\n",
       "       'destination_Work', 'passanger_Alone', 'passanger_Friend(s)',\n",
       "       'passanger_Kid(s)', 'passanger_Partner', 'weather_Rainy',\n",
       "       'weather_Snowy', 'weather_Sunny', 'coupon_Bar',\n",
       "       'coupon_Carry out & Take away', 'coupon_Coffee House',\n",
       "       'coupon_Restaurant(20-50)', 'coupon_Restaurant(<20)',\n",
       "       'maritalStatus_Divorced', 'maritalStatus_Married partner',\n",
       "       'maritalStatus_Single', 'maritalStatus_Unmarried partner',\n",
       "       'maritalStatus_Widowed', 'occupation_Architecture & Engineering',\n",
       "       'occupation_Arts Design Entertainment Sports & Media',\n",
       "       'occupation_Building & Grounds Cleaning & Maintenance',\n",
       "       'occupation_Business & Financial',\n",
       "       'occupation_Community & Social Services',\n",
       "       'occupation_Computer & Mathematical',\n",
       "       'occupation_Construction & Extraction',\n",
       "       'occupation_Education&Training&Library',\n",
       "       'occupation_Farming Fishing & Forestry',\n",
       "       'occupation_Food Preparation & Serving Related',\n",
       "       'occupation_Healthcare Practitioners & Technical',\n",
       "       'occupation_Healthcare Support',\n",
       "       'occupation_Installation Maintenance & Repair', 'occupation_Legal',\n",
       "       'occupation_Life Physical Social Science', 'occupation_Management',\n",
       "       'occupation_Office & Administrative Support',\n",
       "       'occupation_Personal Care & Service',\n",
       "       'occupation_Production Occupations', 'occupation_Protective Service',\n",
       "       'occupation_Retired', 'occupation_Sales & Related',\n",
       "       'occupation_Student', 'occupation_Transportation & Material Moving',\n",
       "       'occupation_Unemployed', 'Bar', 'CoffeeHouse', 'CarryAway',\n",
       "       'RestaurantLessThan20', 'Restaurant20To50', 'income', 'education',\n",
       "       'age', 'time', 'expiration', 'driving_distance', 'gender',\n",
       "       'has_children', 'direction_opp', 'Y'],\n",
       "      dtype='object')"
      ]
     },
     "execution_count": 5,
     "metadata": {},
     "output_type": "execute_result"
    }
   ],
   "source": [
    "df.columns"
   ]
  },
  {
   "cell_type": "code",
   "execution_count": 6,
   "id": "387e42b2",
   "metadata": {},
   "outputs": [],
   "source": [
    "n=[]\n",
    "for i in X_train.columns:\n",
    "    name=str(re.sub(r\"[ <,&)(_-]\",\"\",i).strip(\" \").lower())\n",
    "    n.append(name)"
   ]
  },
  {
   "cell_type": "code",
   "execution_count": 7,
   "id": "2de214e6",
   "metadata": {},
   "outputs": [
    {
     "data": {
      "text/plain": [
       "['destinationhome',\n",
       " 'destinationnourgentplace',\n",
       " 'destinationwork',\n",
       " 'passangeralone',\n",
       " 'passangerfriends',\n",
       " 'passangerkids',\n",
       " 'passangerpartner',\n",
       " 'weatherrainy',\n",
       " 'weathersnowy',\n",
       " 'weathersunny',\n",
       " 'couponbar',\n",
       " 'couponcarryouttakeaway',\n",
       " 'couponcoffeehouse',\n",
       " 'couponrestaurant2050',\n",
       " 'couponrestaurant20',\n",
       " 'maritalstatusdivorced',\n",
       " 'maritalstatusmarriedpartner',\n",
       " 'maritalstatussingle',\n",
       " 'maritalstatusunmarriedpartner',\n",
       " 'maritalstatuswidowed',\n",
       " 'occupationarchitectureengineering',\n",
       " 'occupationartsdesignentertainmentsportsmedia',\n",
       " 'occupationbuildinggroundscleaningmaintenance',\n",
       " 'occupationbusinessfinancial',\n",
       " 'occupationcommunitysocialservices',\n",
       " 'occupationcomputermathematical',\n",
       " 'occupationconstructionextraction',\n",
       " 'occupationeducationtraininglibrary',\n",
       " 'occupationfarmingfishingforestry',\n",
       " 'occupationfoodpreparationservingrelated',\n",
       " 'occupationhealthcarepractitionerstechnical',\n",
       " 'occupationhealthcaresupport',\n",
       " 'occupationinstallationmaintenancerepair',\n",
       " 'occupationlegal',\n",
       " 'occupationlifephysicalsocialscience',\n",
       " 'occupationmanagement',\n",
       " 'occupationofficeadministrativesupport',\n",
       " 'occupationpersonalcareservice',\n",
       " 'occupationproductionoccupations',\n",
       " 'occupationprotectiveservice',\n",
       " 'occupationretired',\n",
       " 'occupationsalesrelated',\n",
       " 'occupationstudent',\n",
       " 'occupationtransportationmaterialmoving',\n",
       " 'occupationunemployed',\n",
       " 'bar',\n",
       " 'coffeehouse',\n",
       " 'carryaway',\n",
       " 'restaurantlessthan20',\n",
       " 'restaurant20to50',\n",
       " 'income',\n",
       " 'education',\n",
       " 'age',\n",
       " 'time',\n",
       " 'expiration',\n",
       " 'drivingdistance',\n",
       " 'gender',\n",
       " 'haschildren',\n",
       " 'directionopp']"
      ]
     },
     "execution_count": 7,
     "metadata": {},
     "output_type": "execute_result"
    }
   ],
   "source": [
    "n"
   ]
  },
  {
   "cell_type": "code",
   "execution_count": 8,
   "id": "f08b5c91",
   "metadata": {},
   "outputs": [],
   "source": [
    "n1=[]\n",
    "for i in X_test.columns:\n",
    "    name=str(re.sub(r\"[ <,&)(_-]\",\"\",i).strip(\" \").lower())\n",
    "    n1.append(name)"
   ]
  },
  {
   "cell_type": "code",
   "execution_count": 9,
   "id": "7464eeea",
   "metadata": {
    "scrolled": false
   },
   "outputs": [
    {
     "data": {
      "text/plain": [
       "['destinationhome',\n",
       " 'destinationnourgentplace',\n",
       " 'destinationwork',\n",
       " 'passangeralone',\n",
       " 'passangerfriends',\n",
       " 'passangerkids',\n",
       " 'passangerpartner',\n",
       " 'weatherrainy',\n",
       " 'weathersnowy',\n",
       " 'weathersunny',\n",
       " 'couponbar',\n",
       " 'couponcarryouttakeaway',\n",
       " 'couponcoffeehouse',\n",
       " 'couponrestaurant2050',\n",
       " 'couponrestaurant20',\n",
       " 'maritalstatusdivorced',\n",
       " 'maritalstatusmarriedpartner',\n",
       " 'maritalstatussingle',\n",
       " 'maritalstatusunmarriedpartner',\n",
       " 'maritalstatuswidowed',\n",
       " 'occupationarchitectureengineering',\n",
       " 'occupationartsdesignentertainmentsportsmedia',\n",
       " 'occupationbuildinggroundscleaningmaintenance',\n",
       " 'occupationbusinessfinancial',\n",
       " 'occupationcommunitysocialservices',\n",
       " 'occupationcomputermathematical',\n",
       " 'occupationconstructionextraction',\n",
       " 'occupationeducationtraininglibrary',\n",
       " 'occupationfarmingfishingforestry',\n",
       " 'occupationfoodpreparationservingrelated',\n",
       " 'occupationhealthcarepractitionerstechnical',\n",
       " 'occupationhealthcaresupport',\n",
       " 'occupationinstallationmaintenancerepair',\n",
       " 'occupationlegal',\n",
       " 'occupationlifephysicalsocialscience',\n",
       " 'occupationmanagement',\n",
       " 'occupationofficeadministrativesupport',\n",
       " 'occupationpersonalcareservice',\n",
       " 'occupationproductionoccupations',\n",
       " 'occupationprotectiveservice',\n",
       " 'occupationretired',\n",
       " 'occupationsalesrelated',\n",
       " 'occupationstudent',\n",
       " 'occupationtransportationmaterialmoving',\n",
       " 'occupationunemployed',\n",
       " 'bar',\n",
       " 'coffeehouse',\n",
       " 'carryaway',\n",
       " 'restaurantlessthan20',\n",
       " 'restaurant20to50',\n",
       " 'income',\n",
       " 'education',\n",
       " 'age',\n",
       " 'time',\n",
       " 'expiration',\n",
       " 'drivingdistance',\n",
       " 'gender',\n",
       " 'haschildren',\n",
       " 'directionopp']"
      ]
     },
     "execution_count": 9,
     "metadata": {},
     "output_type": "execute_result"
    }
   ],
   "source": [
    "n1"
   ]
  },
  {
   "cell_type": "code",
   "execution_count": 10,
   "id": "c3301750",
   "metadata": {},
   "outputs": [
    {
     "name": "stdout",
     "output_type": "stream",
     "text": [
      "<class 'str'>\n",
      "<class 'str'>\n",
      "<class 'str'>\n",
      "<class 'str'>\n",
      "<class 'str'>\n",
      "<class 'str'>\n",
      "<class 'str'>\n",
      "<class 'str'>\n",
      "<class 'str'>\n",
      "<class 'str'>\n",
      "<class 'str'>\n",
      "<class 'str'>\n",
      "<class 'str'>\n",
      "<class 'str'>\n",
      "<class 'str'>\n",
      "<class 'str'>\n",
      "<class 'str'>\n",
      "<class 'str'>\n",
      "<class 'str'>\n",
      "<class 'str'>\n",
      "<class 'str'>\n",
      "<class 'str'>\n",
      "<class 'str'>\n",
      "<class 'str'>\n",
      "<class 'str'>\n",
      "<class 'str'>\n",
      "<class 'str'>\n",
      "<class 'str'>\n",
      "<class 'str'>\n",
      "<class 'str'>\n",
      "<class 'str'>\n",
      "<class 'str'>\n",
      "<class 'str'>\n",
      "<class 'str'>\n",
      "<class 'str'>\n",
      "<class 'str'>\n",
      "<class 'str'>\n",
      "<class 'str'>\n",
      "<class 'str'>\n",
      "<class 'str'>\n",
      "<class 'str'>\n",
      "<class 'str'>\n",
      "<class 'str'>\n",
      "<class 'str'>\n",
      "<class 'str'>\n",
      "<class 'str'>\n",
      "<class 'str'>\n",
      "<class 'str'>\n",
      "<class 'str'>\n",
      "<class 'str'>\n",
      "<class 'str'>\n",
      "<class 'str'>\n",
      "<class 'str'>\n",
      "<class 'str'>\n",
      "<class 'str'>\n",
      "<class 'str'>\n",
      "<class 'str'>\n",
      "<class 'str'>\n",
      "<class 'str'>\n"
     ]
    }
   ],
   "source": [
    "for i in n:\n",
    "    print(type(i))"
   ]
  },
  {
   "cell_type": "code",
   "execution_count": 11,
   "id": "8f99e367",
   "metadata": {},
   "outputs": [
    {
     "data": {
      "text/plain": [
       "Index(['destination_Home', 'destination_No Urgent Place', 'destination_Work',\n",
       "       'passanger_Alone', 'passanger_Friend(s)', 'passanger_Kid(s)',\n",
       "       'passanger_Partner', 'weather_Rainy', 'weather_Snowy', 'weather_Sunny',\n",
       "       'coupon_Bar', 'coupon_Carry out & Take away', 'coupon_Coffee House',\n",
       "       'coupon_Restaurant(20-50)', 'coupon_Restaurant(<20)',\n",
       "       'maritalStatus_Divorced', 'maritalStatus_Married partner',\n",
       "       'maritalStatus_Single', 'maritalStatus_Unmarried partner',\n",
       "       'maritalStatus_Widowed', 'occupation_Architecture & Engineering',\n",
       "       'occupation_Arts Design Entertainment Sports & Media',\n",
       "       'occupation_Building & Grounds Cleaning & Maintenance',\n",
       "       'occupation_Business & Financial',\n",
       "       'occupation_Community & Social Services',\n",
       "       'occupation_Computer & Mathematical',\n",
       "       'occupation_Construction & Extraction',\n",
       "       'occupation_Education&Training&Library',\n",
       "       'occupation_Farming Fishing & Forestry',\n",
       "       'occupation_Food Preparation & Serving Related',\n",
       "       'occupation_Healthcare Practitioners & Technical',\n",
       "       'occupation_Healthcare Support',\n",
       "       'occupation_Installation Maintenance & Repair', 'occupation_Legal',\n",
       "       'occupation_Life Physical Social Science', 'occupation_Management',\n",
       "       'occupation_Office & Administrative Support',\n",
       "       'occupation_Personal Care & Service',\n",
       "       'occupation_Production Occupations', 'occupation_Protective Service',\n",
       "       'occupation_Retired', 'occupation_Sales & Related',\n",
       "       'occupation_Student', 'occupation_Transportation & Material Moving',\n",
       "       'occupation_Unemployed', 'Bar', 'CoffeeHouse', 'CarryAway',\n",
       "       'RestaurantLessThan20', 'Restaurant20To50', 'income', 'education',\n",
       "       'age', 'time', 'expiration', 'driving_distance', 'gender',\n",
       "       'has_children', 'direction_opp'],\n",
       "      dtype='object')"
      ]
     },
     "execution_count": 11,
     "metadata": {},
     "output_type": "execute_result"
    }
   ],
   "source": [
    "X_train.columns"
   ]
  },
  {
   "cell_type": "code",
   "execution_count": 12,
   "id": "2e8be9e6",
   "metadata": {},
   "outputs": [],
   "source": [
    "for c in X_test.columns:\n",
    "    if re.findall(\",\",c):\n",
    "        print(c)"
   ]
  },
  {
   "cell_type": "code",
   "execution_count": 13,
   "id": "8f0eee1a",
   "metadata": {},
   "outputs": [],
   "source": [
    "X_test.columns = n1"
   ]
  },
  {
   "cell_type": "code",
   "execution_count": 14,
   "id": "4891e9f8",
   "metadata": {
    "scrolled": false
   },
   "outputs": [
    {
     "data": {
      "text/plain": [
       "Index(['destination_Home', 'destination_No Urgent Place', 'destination_Work',\n",
       "       'passanger_Alone', 'passanger_Friend(s)', 'passanger_Kid(s)',\n",
       "       'passanger_Partner', 'weather_Rainy', 'weather_Snowy', 'weather_Sunny',\n",
       "       'coupon_Bar', 'coupon_Carry out & Take away', 'coupon_Coffee House',\n",
       "       'coupon_Restaurant(20-50)', 'coupon_Restaurant(<20)',\n",
       "       'maritalStatus_Divorced', 'maritalStatus_Married partner',\n",
       "       'maritalStatus_Single', 'maritalStatus_Unmarried partner',\n",
       "       'maritalStatus_Widowed', 'occupation_Architecture & Engineering',\n",
       "       'occupation_Arts Design Entertainment Sports & Media',\n",
       "       'occupation_Building & Grounds Cleaning & Maintenance',\n",
       "       'occupation_Business & Financial',\n",
       "       'occupation_Community & Social Services',\n",
       "       'occupation_Computer & Mathematical',\n",
       "       'occupation_Construction & Extraction',\n",
       "       'occupation_Education&Training&Library',\n",
       "       'occupation_Farming Fishing & Forestry',\n",
       "       'occupation_Food Preparation & Serving Related',\n",
       "       'occupation_Healthcare Practitioners & Technical',\n",
       "       'occupation_Healthcare Support',\n",
       "       'occupation_Installation Maintenance & Repair', 'occupation_Legal',\n",
       "       'occupation_Life Physical Social Science', 'occupation_Management',\n",
       "       'occupation_Office & Administrative Support',\n",
       "       'occupation_Personal Care & Service',\n",
       "       'occupation_Production Occupations', 'occupation_Protective Service',\n",
       "       'occupation_Retired', 'occupation_Sales & Related',\n",
       "       'occupation_Student', 'occupation_Transportation & Material Moving',\n",
       "       'occupation_Unemployed', 'Bar', 'CoffeeHouse', 'CarryAway',\n",
       "       'RestaurantLessThan20', 'Restaurant20To50', 'income', 'education',\n",
       "       'age', 'time', 'expiration', 'driving_distance', 'gender',\n",
       "       'has_children', 'direction_opp'],\n",
       "      dtype='object')"
      ]
     },
     "execution_count": 14,
     "metadata": {},
     "output_type": "execute_result"
    }
   ],
   "source": [
    "X_train.columns"
   ]
  },
  {
   "cell_type": "code",
   "execution_count": 15,
   "id": "9bb7d8af",
   "metadata": {},
   "outputs": [],
   "source": [
    "X_train.columns=n"
   ]
  },
  {
   "cell_type": "code",
   "execution_count": 16,
   "id": "c9aa109b",
   "metadata": {
    "scrolled": false
   },
   "outputs": [
    {
     "data": {
      "text/plain": [
       "Index(['destinationhome', 'destinationnourgentplace', 'destinationwork',\n",
       "       'passangeralone', 'passangerfriends', 'passangerkids',\n",
       "       'passangerpartner', 'weatherrainy', 'weathersnowy', 'weathersunny',\n",
       "       'couponbar', 'couponcarryouttakeaway', 'couponcoffeehouse',\n",
       "       'couponrestaurant2050', 'couponrestaurant20', 'maritalstatusdivorced',\n",
       "       'maritalstatusmarriedpartner', 'maritalstatussingle',\n",
       "       'maritalstatusunmarriedpartner', 'maritalstatuswidowed',\n",
       "       'occupationarchitectureengineering',\n",
       "       'occupationartsdesignentertainmentsportsmedia',\n",
       "       'occupationbuildinggroundscleaningmaintenance',\n",
       "       'occupationbusinessfinancial', 'occupationcommunitysocialservices',\n",
       "       'occupationcomputermathematical', 'occupationconstructionextraction',\n",
       "       'occupationeducationtraininglibrary',\n",
       "       'occupationfarmingfishingforestry',\n",
       "       'occupationfoodpreparationservingrelated',\n",
       "       'occupationhealthcarepractitionerstechnical',\n",
       "       'occupationhealthcaresupport',\n",
       "       'occupationinstallationmaintenancerepair', 'occupationlegal',\n",
       "       'occupationlifephysicalsocialscience', 'occupationmanagement',\n",
       "       'occupationofficeadministrativesupport',\n",
       "       'occupationpersonalcareservice', 'occupationproductionoccupations',\n",
       "       'occupationprotectiveservice', 'occupationretired',\n",
       "       'occupationsalesrelated', 'occupationstudent',\n",
       "       'occupationtransportationmaterialmoving', 'occupationunemployed', 'bar',\n",
       "       'coffeehouse', 'carryaway', 'restaurantlessthan20', 'restaurant20to50',\n",
       "       'income', 'education', 'age', 'time', 'expiration', 'drivingdistance',\n",
       "       'gender', 'haschildren', 'directionopp'],\n",
       "      dtype='object')"
      ]
     },
     "execution_count": 16,
     "metadata": {},
     "output_type": "execute_result"
    }
   ],
   "source": [
    "X_test.columns"
   ]
  },
  {
   "cell_type": "code",
   "execution_count": 17,
   "id": "bb913e0e",
   "metadata": {},
   "outputs": [
    {
     "data": {
      "text/plain": [
       "59"
      ]
     },
     "execution_count": 17,
     "metadata": {},
     "output_type": "execute_result"
    }
   ],
   "source": [
    "len(X_train.columns)"
   ]
  },
  {
   "cell_type": "code",
   "execution_count": 18,
   "id": "22cf3115",
   "metadata": {},
   "outputs": [
    {
     "data": {
      "text/plain": [
       "59"
      ]
     },
     "execution_count": 18,
     "metadata": {},
     "output_type": "execute_result"
    }
   ],
   "source": [
    "len(X_test.columns)"
   ]
  },
  {
   "cell_type": "code",
   "execution_count": 19,
   "id": "509cf8f8",
   "metadata": {},
   "outputs": [
    {
     "data": {
      "text/html": [
       "<div>\n",
       "<style scoped>\n",
       "    .dataframe tbody tr th:only-of-type {\n",
       "        vertical-align: middle;\n",
       "    }\n",
       "\n",
       "    .dataframe tbody tr th {\n",
       "        vertical-align: top;\n",
       "    }\n",
       "\n",
       "    .dataframe thead th {\n",
       "        text-align: right;\n",
       "    }\n",
       "</style>\n",
       "<table border=\"1\" class=\"dataframe\">\n",
       "  <thead>\n",
       "    <tr style=\"text-align: right;\">\n",
       "      <th></th>\n",
       "      <th>destinationhome</th>\n",
       "      <th>destinationnourgentplace</th>\n",
       "      <th>destinationwork</th>\n",
       "      <th>passangeralone</th>\n",
       "      <th>passangerfriends</th>\n",
       "      <th>passangerkids</th>\n",
       "      <th>passangerpartner</th>\n",
       "      <th>weatherrainy</th>\n",
       "      <th>weathersnowy</th>\n",
       "      <th>weathersunny</th>\n",
       "      <th>...</th>\n",
       "      <th>restaurant20to50</th>\n",
       "      <th>income</th>\n",
       "      <th>education</th>\n",
       "      <th>age</th>\n",
       "      <th>time</th>\n",
       "      <th>expiration</th>\n",
       "      <th>drivingdistance</th>\n",
       "      <th>gender</th>\n",
       "      <th>haschildren</th>\n",
       "      <th>directionopp</th>\n",
       "    </tr>\n",
       "  </thead>\n",
       "  <tbody>\n",
       "    <tr>\n",
       "      <th>2589</th>\n",
       "      <td>0</td>\n",
       "      <td>1</td>\n",
       "      <td>0</td>\n",
       "      <td>0</td>\n",
       "      <td>1</td>\n",
       "      <td>0</td>\n",
       "      <td>0</td>\n",
       "      <td>0</td>\n",
       "      <td>0</td>\n",
       "      <td>1</td>\n",
       "      <td>...</td>\n",
       "      <td>2</td>\n",
       "      <td>8</td>\n",
       "      <td>4</td>\n",
       "      <td>6</td>\n",
       "      <td>1</td>\n",
       "      <td>0</td>\n",
       "      <td>1</td>\n",
       "      <td>1</td>\n",
       "      <td>1</td>\n",
       "      <td>1</td>\n",
       "    </tr>\n",
       "    <tr>\n",
       "      <th>11869</th>\n",
       "      <td>0</td>\n",
       "      <td>1</td>\n",
       "      <td>0</td>\n",
       "      <td>0</td>\n",
       "      <td>1</td>\n",
       "      <td>0</td>\n",
       "      <td>0</td>\n",
       "      <td>0</td>\n",
       "      <td>0</td>\n",
       "      <td>1</td>\n",
       "      <td>...</td>\n",
       "      <td>1</td>\n",
       "      <td>7</td>\n",
       "      <td>4</td>\n",
       "      <td>1</td>\n",
       "      <td>0</td>\n",
       "      <td>0</td>\n",
       "      <td>0</td>\n",
       "      <td>1</td>\n",
       "      <td>0</td>\n",
       "      <td>1</td>\n",
       "    </tr>\n",
       "    <tr>\n",
       "      <th>7199</th>\n",
       "      <td>0</td>\n",
       "      <td>1</td>\n",
       "      <td>0</td>\n",
       "      <td>0</td>\n",
       "      <td>1</td>\n",
       "      <td>0</td>\n",
       "      <td>0</td>\n",
       "      <td>0</td>\n",
       "      <td>0</td>\n",
       "      <td>1</td>\n",
       "      <td>...</td>\n",
       "      <td>2</td>\n",
       "      <td>7</td>\n",
       "      <td>4</td>\n",
       "      <td>2</td>\n",
       "      <td>1</td>\n",
       "      <td>1</td>\n",
       "      <td>1</td>\n",
       "      <td>0</td>\n",
       "      <td>0</td>\n",
       "      <td>1</td>\n",
       "    </tr>\n",
       "    <tr>\n",
       "      <th>315</th>\n",
       "      <td>0</td>\n",
       "      <td>0</td>\n",
       "      <td>1</td>\n",
       "      <td>1</td>\n",
       "      <td>0</td>\n",
       "      <td>0</td>\n",
       "      <td>0</td>\n",
       "      <td>0</td>\n",
       "      <td>0</td>\n",
       "      <td>1</td>\n",
       "      <td>...</td>\n",
       "      <td>1</td>\n",
       "      <td>4</td>\n",
       "      <td>5</td>\n",
       "      <td>5</td>\n",
       "      <td>0</td>\n",
       "      <td>0</td>\n",
       "      <td>1</td>\n",
       "      <td>1</td>\n",
       "      <td>1</td>\n",
       "      <td>1</td>\n",
       "    </tr>\n",
       "    <tr>\n",
       "      <th>10739</th>\n",
       "      <td>0</td>\n",
       "      <td>1</td>\n",
       "      <td>0</td>\n",
       "      <td>0</td>\n",
       "      <td>1</td>\n",
       "      <td>0</td>\n",
       "      <td>0</td>\n",
       "      <td>0</td>\n",
       "      <td>0</td>\n",
       "      <td>1</td>\n",
       "      <td>...</td>\n",
       "      <td>1</td>\n",
       "      <td>0</td>\n",
       "      <td>1</td>\n",
       "      <td>0</td>\n",
       "      <td>0</td>\n",
       "      <td>0</td>\n",
       "      <td>0</td>\n",
       "      <td>0</td>\n",
       "      <td>0</td>\n",
       "      <td>1</td>\n",
       "    </tr>\n",
       "    <tr>\n",
       "      <th>...</th>\n",
       "      <td>...</td>\n",
       "      <td>...</td>\n",
       "      <td>...</td>\n",
       "      <td>...</td>\n",
       "      <td>...</td>\n",
       "      <td>...</td>\n",
       "      <td>...</td>\n",
       "      <td>...</td>\n",
       "      <td>...</td>\n",
       "      <td>...</td>\n",
       "      <td>...</td>\n",
       "      <td>...</td>\n",
       "      <td>...</td>\n",
       "      <td>...</td>\n",
       "      <td>...</td>\n",
       "      <td>...</td>\n",
       "      <td>...</td>\n",
       "      <td>...</td>\n",
       "      <td>...</td>\n",
       "      <td>...</td>\n",
       "      <td>...</td>\n",
       "    </tr>\n",
       "    <tr>\n",
       "      <th>11964</th>\n",
       "      <td>1</td>\n",
       "      <td>0</td>\n",
       "      <td>0</td>\n",
       "      <td>1</td>\n",
       "      <td>0</td>\n",
       "      <td>0</td>\n",
       "      <td>0</td>\n",
       "      <td>0</td>\n",
       "      <td>0</td>\n",
       "      <td>1</td>\n",
       "      <td>...</td>\n",
       "      <td>3</td>\n",
       "      <td>2</td>\n",
       "      <td>4</td>\n",
       "      <td>4</td>\n",
       "      <td>1</td>\n",
       "      <td>0</td>\n",
       "      <td>1</td>\n",
       "      <td>0</td>\n",
       "      <td>0</td>\n",
       "      <td>0</td>\n",
       "    </tr>\n",
       "    <tr>\n",
       "      <th>5191</th>\n",
       "      <td>0</td>\n",
       "      <td>0</td>\n",
       "      <td>1</td>\n",
       "      <td>1</td>\n",
       "      <td>0</td>\n",
       "      <td>0</td>\n",
       "      <td>0</td>\n",
       "      <td>0</td>\n",
       "      <td>0</td>\n",
       "      <td>1</td>\n",
       "      <td>...</td>\n",
       "      <td>1</td>\n",
       "      <td>5</td>\n",
       "      <td>5</td>\n",
       "      <td>7</td>\n",
       "      <td>0</td>\n",
       "      <td>1</td>\n",
       "      <td>2</td>\n",
       "      <td>1</td>\n",
       "      <td>1</td>\n",
       "      <td>1</td>\n",
       "    </tr>\n",
       "    <tr>\n",
       "      <th>5390</th>\n",
       "      <td>0</td>\n",
       "      <td>1</td>\n",
       "      <td>0</td>\n",
       "      <td>0</td>\n",
       "      <td>1</td>\n",
       "      <td>0</td>\n",
       "      <td>0</td>\n",
       "      <td>0</td>\n",
       "      <td>0</td>\n",
       "      <td>1</td>\n",
       "      <td>...</td>\n",
       "      <td>0</td>\n",
       "      <td>1</td>\n",
       "      <td>2</td>\n",
       "      <td>5</td>\n",
       "      <td>0</td>\n",
       "      <td>0</td>\n",
       "      <td>1</td>\n",
       "      <td>0</td>\n",
       "      <td>1</td>\n",
       "      <td>1</td>\n",
       "    </tr>\n",
       "    <tr>\n",
       "      <th>860</th>\n",
       "      <td>1</td>\n",
       "      <td>0</td>\n",
       "      <td>0</td>\n",
       "      <td>1</td>\n",
       "      <td>0</td>\n",
       "      <td>0</td>\n",
       "      <td>0</td>\n",
       "      <td>0</td>\n",
       "      <td>0</td>\n",
       "      <td>1</td>\n",
       "      <td>...</td>\n",
       "      <td>1</td>\n",
       "      <td>4</td>\n",
       "      <td>3</td>\n",
       "      <td>2</td>\n",
       "      <td>1</td>\n",
       "      <td>0</td>\n",
       "      <td>0</td>\n",
       "      <td>0</td>\n",
       "      <td>0</td>\n",
       "      <td>1</td>\n",
       "    </tr>\n",
       "    <tr>\n",
       "      <th>7270</th>\n",
       "      <td>0</td>\n",
       "      <td>1</td>\n",
       "      <td>0</td>\n",
       "      <td>0</td>\n",
       "      <td>0</td>\n",
       "      <td>0</td>\n",
       "      <td>1</td>\n",
       "      <td>1</td>\n",
       "      <td>0</td>\n",
       "      <td>0</td>\n",
       "      <td>...</td>\n",
       "      <td>1</td>\n",
       "      <td>7</td>\n",
       "      <td>2</td>\n",
       "      <td>0</td>\n",
       "      <td>1</td>\n",
       "      <td>0</td>\n",
       "      <td>1</td>\n",
       "      <td>1</td>\n",
       "      <td>0</td>\n",
       "      <td>1</td>\n",
       "    </tr>\n",
       "  </tbody>\n",
       "</table>\n",
       "<p>10023 rows × 59 columns</p>\n",
       "</div>"
      ],
      "text/plain": [
       "       destinationhome  destinationnourgentplace  destinationwork  \\\n",
       "2589                 0                         1                0   \n",
       "11869                0                         1                0   \n",
       "7199                 0                         1                0   \n",
       "315                  0                         0                1   \n",
       "10739                0                         1                0   \n",
       "...                ...                       ...              ...   \n",
       "11964                1                         0                0   \n",
       "5191                 0                         0                1   \n",
       "5390                 0                         1                0   \n",
       "860                  1                         0                0   \n",
       "7270                 0                         1                0   \n",
       "\n",
       "       passangeralone  passangerfriends  passangerkids  passangerpartner  \\\n",
       "2589                0                 1              0                 0   \n",
       "11869               0                 1              0                 0   \n",
       "7199                0                 1              0                 0   \n",
       "315                 1                 0              0                 0   \n",
       "10739               0                 1              0                 0   \n",
       "...               ...               ...            ...               ...   \n",
       "11964               1                 0              0                 0   \n",
       "5191                1                 0              0                 0   \n",
       "5390                0                 1              0                 0   \n",
       "860                 1                 0              0                 0   \n",
       "7270                0                 0              0                 1   \n",
       "\n",
       "       weatherrainy  weathersnowy  weathersunny  ...  restaurant20to50  \\\n",
       "2589              0             0             1  ...                 2   \n",
       "11869             0             0             1  ...                 1   \n",
       "7199              0             0             1  ...                 2   \n",
       "315               0             0             1  ...                 1   \n",
       "10739             0             0             1  ...                 1   \n",
       "...             ...           ...           ...  ...               ...   \n",
       "11964             0             0             1  ...                 3   \n",
       "5191              0             0             1  ...                 1   \n",
       "5390              0             0             1  ...                 0   \n",
       "860               0             0             1  ...                 1   \n",
       "7270              1             0             0  ...                 1   \n",
       "\n",
       "       income  education  age  time  expiration  drivingdistance  gender  \\\n",
       "2589        8          4    6     1           0                1       1   \n",
       "11869       7          4    1     0           0                0       1   \n",
       "7199        7          4    2     1           1                1       0   \n",
       "315         4          5    5     0           0                1       1   \n",
       "10739       0          1    0     0           0                0       0   \n",
       "...       ...        ...  ...   ...         ...              ...     ...   \n",
       "11964       2          4    4     1           0                1       0   \n",
       "5191        5          5    7     0           1                2       1   \n",
       "5390        1          2    5     0           0                1       0   \n",
       "860         4          3    2     1           0                0       0   \n",
       "7270        7          2    0     1           0                1       1   \n",
       "\n",
       "       haschildren  directionopp  \n",
       "2589             1             1  \n",
       "11869            0             1  \n",
       "7199             0             1  \n",
       "315              1             1  \n",
       "10739            0             1  \n",
       "...            ...           ...  \n",
       "11964            0             0  \n",
       "5191             1             1  \n",
       "5390             1             1  \n",
       "860              0             1  \n",
       "7270             0             1  \n",
       "\n",
       "[10023 rows x 59 columns]"
      ]
     },
     "execution_count": 19,
     "metadata": {},
     "output_type": "execute_result"
    }
   ],
   "source": [
    "X_train"
   ]
  },
  {
   "cell_type": "code",
   "execution_count": 20,
   "id": "8008d9df",
   "metadata": {},
   "outputs": [
    {
     "data": {
      "text/plain": [
       "59"
      ]
     },
     "execution_count": 20,
     "metadata": {},
     "output_type": "execute_result"
    }
   ],
   "source": [
    "len(X_train.columns.values)"
   ]
  },
  {
   "cell_type": "code",
   "execution_count": 21,
   "id": "a224d3ff",
   "metadata": {},
   "outputs": [
    {
     "data": {
      "text/plain": [
       "59"
      ]
     },
     "execution_count": 21,
     "metadata": {},
     "output_type": "execute_result"
    }
   ],
   "source": [
    "X_train.columns.nunique()"
   ]
  },
  {
   "cell_type": "code",
   "execution_count": 22,
   "id": "e50db2c1",
   "metadata": {
    "scrolled": false
   },
   "outputs": [
    {
     "name": "stdout",
     "output_type": "stream",
     "text": [
      "destinationhome\n",
      "1\n",
      "destinationnourgentplace\n",
      "1\n",
      "destinationwork\n",
      "1\n",
      "passangeralone\n",
      "1\n",
      "passangerfriends\n",
      "1\n",
      "passangerkids\n",
      "1\n",
      "passangerpartner\n",
      "1\n",
      "weatherrainy\n",
      "1\n",
      "weathersnowy\n",
      "1\n",
      "weathersunny\n",
      "1\n",
      "couponbar\n",
      "1\n",
      "couponcarryouttakeaway\n",
      "1\n",
      "couponcoffeehouse\n",
      "1\n",
      "couponrestaurant2050\n",
      "1\n",
      "couponrestaurant20\n",
      "1\n",
      "maritalstatusdivorced\n",
      "1\n",
      "maritalstatusmarriedpartner\n",
      "1\n",
      "maritalstatussingle\n",
      "1\n",
      "maritalstatusunmarriedpartner\n",
      "1\n",
      "maritalstatuswidowed\n",
      "1\n",
      "occupationarchitectureengineering\n",
      "1\n",
      "occupationartsdesignentertainmentsportsmedia\n",
      "1\n",
      "occupationbuildinggroundscleaningmaintenance\n",
      "1\n",
      "occupationbusinessfinancial\n",
      "1\n",
      "occupationcommunitysocialservices\n",
      "1\n",
      "occupationcomputermathematical\n",
      "1\n",
      "occupationconstructionextraction\n",
      "1\n",
      "occupationeducationtraininglibrary\n",
      "1\n",
      "occupationfarmingfishingforestry\n",
      "1\n",
      "occupationfoodpreparationservingrelated\n",
      "1\n",
      "occupationhealthcarepractitionerstechnical\n",
      "1\n",
      "occupationhealthcaresupport\n",
      "1\n",
      "occupationinstallationmaintenancerepair\n",
      "1\n",
      "occupationlegal\n",
      "1\n",
      "occupationlifephysicalsocialscience\n",
      "1\n",
      "occupationmanagement\n",
      "1\n",
      "occupationofficeadministrativesupport\n",
      "1\n",
      "occupationpersonalcareservice\n",
      "1\n",
      "occupationproductionoccupations\n",
      "1\n",
      "occupationprotectiveservice\n",
      "1\n",
      "occupationretired\n",
      "1\n",
      "occupationsalesrelated\n",
      "1\n",
      "occupationstudent\n",
      "1\n",
      "occupationtransportationmaterialmoving\n",
      "1\n",
      "occupationunemployed\n",
      "1\n",
      "bar\n",
      "1\n",
      "coffeehouse\n",
      "1\n",
      "carryaway\n",
      "1\n",
      "restaurantlessthan20\n",
      "1\n",
      "restaurant20to50\n",
      "1\n",
      "income\n",
      "1\n",
      "education\n",
      "1\n",
      "age\n",
      "1\n",
      "time\n",
      "1\n",
      "expiration\n",
      "1\n",
      "drivingdistance\n",
      "1\n",
      "gender\n",
      "1\n",
      "haschildren\n",
      "1\n",
      "directionopp\n",
      "1\n"
     ]
    }
   ],
   "source": [
    "for i in X_train.columns:\n",
    "    print(i)\n",
    "    print(list(X_train.columns).count(i))"
   ]
  },
  {
   "cell_type": "code",
   "execution_count": 23,
   "id": "124f3d72",
   "metadata": {},
   "outputs": [],
   "source": [
    "from xgboost import XGBClassifier"
   ]
  },
  {
   "cell_type": "code",
   "execution_count": 24,
   "id": "0af9bb15",
   "metadata": {
    "scrolled": false
   },
   "outputs": [
    {
     "name": "stderr",
     "output_type": "stream",
     "text": [
      "C:\\Users\\DELL\\anaconda3\\lib\\site-packages\\xgboost\\sklearn.py:793: UserWarning: `eval_metric` in `fit` method is deprecated for better compatibility with scikit-learn, use `eval_metric` in constructor or`set_params` instead.\n",
      "  warnings.warn(\n",
      "C:\\Users\\DELL\\anaconda3\\lib\\site-packages\\xgboost\\sklearn.py:793: UserWarning: `early_stopping_rounds` in `fit` method is deprecated for better compatibility with scikit-learn, use `early_stopping_rounds` in constructor or`set_params` instead.\n",
      "  warnings.warn(\n"
     ]
    },
    {
     "name": "stdout",
     "output_type": "stream",
     "text": [
      "[0]\tvalidation_0-logloss:0.64021\n",
      "[1]\tvalidation_0-logloss:0.61551\n",
      "[2]\tvalidation_0-logloss:0.59678\n",
      "[3]\tvalidation_0-logloss:0.58085\n",
      "[4]\tvalidation_0-logloss:0.57374\n",
      "[5]\tvalidation_0-logloss:0.56539\n",
      "[6]\tvalidation_0-logloss:0.55495\n",
      "[7]\tvalidation_0-logloss:0.55053\n",
      "[8]\tvalidation_0-logloss:0.54688\n",
      "[9]\tvalidation_0-logloss:0.54540\n",
      "[10]\tvalidation_0-logloss:0.54353\n",
      "[11]\tvalidation_0-logloss:0.53938\n",
      "[12]\tvalidation_0-logloss:0.53841\n",
      "[13]\tvalidation_0-logloss:0.53541\n",
      "[14]\tvalidation_0-logloss:0.53552\n",
      "[15]\tvalidation_0-logloss:0.53444\n",
      "[16]\tvalidation_0-logloss:0.53188\n",
      "[17]\tvalidation_0-logloss:0.53092\n",
      "[18]\tvalidation_0-logloss:0.52767\n",
      "[19]\tvalidation_0-logloss:0.52774\n",
      "[20]\tvalidation_0-logloss:0.52653\n",
      "[21]\tvalidation_0-logloss:0.52521\n",
      "[22]\tvalidation_0-logloss:0.52403\n",
      "[23]\tvalidation_0-logloss:0.52417\n",
      "[24]\tvalidation_0-logloss:0.52320\n",
      "[25]\tvalidation_0-logloss:0.51968\n",
      "[26]\tvalidation_0-logloss:0.51852\n",
      "[27]\tvalidation_0-logloss:0.51485\n",
      "[28]\tvalidation_0-logloss:0.51600\n",
      "[29]\tvalidation_0-logloss:0.51563\n",
      "[30]\tvalidation_0-logloss:0.51548\n",
      "[31]\tvalidation_0-logloss:0.51587\n",
      "[32]\tvalidation_0-logloss:0.51542\n",
      "[33]\tvalidation_0-logloss:0.51397\n",
      "[34]\tvalidation_0-logloss:0.51341\n",
      "[35]\tvalidation_0-logloss:0.51259\n",
      "[36]\tvalidation_0-logloss:0.51190\n",
      "[37]\tvalidation_0-logloss:0.51192\n",
      "[38]\tvalidation_0-logloss:0.51255\n",
      "[39]\tvalidation_0-logloss:0.51099\n",
      "[40]\tvalidation_0-logloss:0.51094\n",
      "[41]\tvalidation_0-logloss:0.50963\n",
      "[42]\tvalidation_0-logloss:0.50919\n",
      "[43]\tvalidation_0-logloss:0.50910\n",
      "[44]\tvalidation_0-logloss:0.50958\n",
      "[45]\tvalidation_0-logloss:0.50986\n",
      "[46]\tvalidation_0-logloss:0.50992\n",
      "[47]\tvalidation_0-logloss:0.50809\n",
      "[48]\tvalidation_0-logloss:0.50759\n",
      "[49]\tvalidation_0-logloss:0.50731\n",
      "[50]\tvalidation_0-logloss:0.50716\n",
      "[51]\tvalidation_0-logloss:0.50769\n",
      "[52]\tvalidation_0-logloss:0.50794\n",
      "[53]\tvalidation_0-logloss:0.50755\n",
      "[54]\tvalidation_0-logloss:0.50693\n",
      "[55]\tvalidation_0-logloss:0.50622\n",
      "[56]\tvalidation_0-logloss:0.50675\n",
      "[57]\tvalidation_0-logloss:0.50700\n",
      "[58]\tvalidation_0-logloss:0.50773\n",
      "[59]\tvalidation_0-logloss:0.50760\n",
      "[60]\tvalidation_0-logloss:0.50805\n",
      "[61]\tvalidation_0-logloss:0.50812\n",
      "[62]\tvalidation_0-logloss:0.50715\n",
      "[63]\tvalidation_0-logloss:0.50679\n",
      "[64]\tvalidation_0-logloss:0.50613\n",
      "[65]\tvalidation_0-logloss:0.50661\n",
      "[66]\tvalidation_0-logloss:0.50610\n",
      "[67]\tvalidation_0-logloss:0.50638\n",
      "[68]\tvalidation_0-logloss:0.50619\n",
      "[69]\tvalidation_0-logloss:0.50617\n",
      "[70]\tvalidation_0-logloss:0.50579\n",
      "[71]\tvalidation_0-logloss:0.50607\n",
      "[72]\tvalidation_0-logloss:0.50592\n",
      "[73]\tvalidation_0-logloss:0.50610\n",
      "[74]\tvalidation_0-logloss:0.50538\n",
      "[75]\tvalidation_0-logloss:0.50496\n",
      "[76]\tvalidation_0-logloss:0.50431\n",
      "[77]\tvalidation_0-logloss:0.50414\n",
      "[78]\tvalidation_0-logloss:0.50466\n",
      "[79]\tvalidation_0-logloss:0.50493\n",
      "[80]\tvalidation_0-logloss:0.50458\n",
      "[81]\tvalidation_0-logloss:0.50448\n",
      "[82]\tvalidation_0-logloss:0.50494\n",
      "[83]\tvalidation_0-logloss:0.50483\n",
      "[84]\tvalidation_0-logloss:0.50414\n",
      "[85]\tvalidation_0-logloss:0.50369\n",
      "[86]\tvalidation_0-logloss:0.50406\n",
      "[87]\tvalidation_0-logloss:0.50410\n",
      "[88]\tvalidation_0-logloss:0.50511\n",
      "[89]\tvalidation_0-logloss:0.50560\n",
      "[90]\tvalidation_0-logloss:0.50600\n",
      "[91]\tvalidation_0-logloss:0.50536\n",
      "[92]\tvalidation_0-logloss:0.50558\n",
      "[93]\tvalidation_0-logloss:0.50583\n",
      "[94]\tvalidation_0-logloss:0.50544\n",
      "[95]\tvalidation_0-logloss:0.50470\n"
     ]
    },
    {
     "data": {
      "text/html": [
       "<style>#sk-container-id-1 {color: black;background-color: white;}#sk-container-id-1 pre{padding: 0;}#sk-container-id-1 div.sk-toggleable {background-color: white;}#sk-container-id-1 label.sk-toggleable__label {cursor: pointer;display: block;width: 100%;margin-bottom: 0;padding: 0.3em;box-sizing: border-box;text-align: center;}#sk-container-id-1 label.sk-toggleable__label-arrow:before {content: \"▸\";float: left;margin-right: 0.25em;color: #696969;}#sk-container-id-1 label.sk-toggleable__label-arrow:hover:before {color: black;}#sk-container-id-1 div.sk-estimator:hover label.sk-toggleable__label-arrow:before {color: black;}#sk-container-id-1 div.sk-toggleable__content {max-height: 0;max-width: 0;overflow: hidden;text-align: left;background-color: #f0f8ff;}#sk-container-id-1 div.sk-toggleable__content pre {margin: 0.2em;color: black;border-radius: 0.25em;background-color: #f0f8ff;}#sk-container-id-1 input.sk-toggleable__control:checked~div.sk-toggleable__content {max-height: 200px;max-width: 100%;overflow: auto;}#sk-container-id-1 input.sk-toggleable__control:checked~label.sk-toggleable__label-arrow:before {content: \"▾\";}#sk-container-id-1 div.sk-estimator input.sk-toggleable__control:checked~label.sk-toggleable__label {background-color: #d4ebff;}#sk-container-id-1 div.sk-label input.sk-toggleable__control:checked~label.sk-toggleable__label {background-color: #d4ebff;}#sk-container-id-1 input.sk-hidden--visually {border: 0;clip: rect(1px 1px 1px 1px);clip: rect(1px, 1px, 1px, 1px);height: 1px;margin: -1px;overflow: hidden;padding: 0;position: absolute;width: 1px;}#sk-container-id-1 div.sk-estimator {font-family: monospace;background-color: #f0f8ff;border: 1px dotted black;border-radius: 0.25em;box-sizing: border-box;margin-bottom: 0.5em;}#sk-container-id-1 div.sk-estimator:hover {background-color: #d4ebff;}#sk-container-id-1 div.sk-parallel-item::after {content: \"\";width: 100%;border-bottom: 1px solid gray;flex-grow: 1;}#sk-container-id-1 div.sk-label:hover label.sk-toggleable__label {background-color: #d4ebff;}#sk-container-id-1 div.sk-serial::before {content: \"\";position: absolute;border-left: 1px solid gray;box-sizing: border-box;top: 0;bottom: 0;left: 50%;z-index: 0;}#sk-container-id-1 div.sk-serial {display: flex;flex-direction: column;align-items: center;background-color: white;padding-right: 0.2em;padding-left: 0.2em;position: relative;}#sk-container-id-1 div.sk-item {position: relative;z-index: 1;}#sk-container-id-1 div.sk-parallel {display: flex;align-items: stretch;justify-content: center;background-color: white;position: relative;}#sk-container-id-1 div.sk-item::before, #sk-container-id-1 div.sk-parallel-item::before {content: \"\";position: absolute;border-left: 1px solid gray;box-sizing: border-box;top: 0;bottom: 0;left: 50%;z-index: -1;}#sk-container-id-1 div.sk-parallel-item {display: flex;flex-direction: column;z-index: 1;position: relative;background-color: white;}#sk-container-id-1 div.sk-parallel-item:first-child::after {align-self: flex-end;width: 50%;}#sk-container-id-1 div.sk-parallel-item:last-child::after {align-self: flex-start;width: 50%;}#sk-container-id-1 div.sk-parallel-item:only-child::after {width: 0;}#sk-container-id-1 div.sk-dashed-wrapped {border: 1px dashed gray;margin: 0 0.4em 0.5em 0.4em;box-sizing: border-box;padding-bottom: 0.4em;background-color: white;}#sk-container-id-1 div.sk-label label {font-family: monospace;font-weight: bold;display: inline-block;line-height: 1.2em;}#sk-container-id-1 div.sk-label-container {text-align: center;}#sk-container-id-1 div.sk-container {/* jupyter's `normalize.less` sets `[hidden] { display: none; }` but bootstrap.min.css set `[hidden] { display: none !important; }` so we also need the `!important` here to be able to override the default hidden behavior on the sphinx rendered scikit-learn.org. See: https://github.com/scikit-learn/scikit-learn/issues/21755 */display: inline-block !important;position: relative;}#sk-container-id-1 div.sk-text-repr-fallback {display: none;}</style><div id=\"sk-container-id-1\" class=\"sk-top-container\"><div class=\"sk-text-repr-fallback\"><pre>XGBClassifier(base_score=0.5, booster=&#x27;gbtree&#x27;, callbacks=None,\n",
       "              colsample_bylevel=1, colsample_bynode=1, colsample_bytree=1,\n",
       "              early_stopping_rounds=None, enable_categorical=False,\n",
       "              eval_metric=None, gamma=0, gpu_id=-1, grow_policy=&#x27;depthwise&#x27;,\n",
       "              importance_type=None, interaction_constraints=&#x27;&#x27;,\n",
       "              learning_rate=0.300000012, max_bin=256, max_cat_to_onehot=4,\n",
       "              max_delta_step=0, max_depth=6, max_leaves=0, min_child_weight=1,\n",
       "              missing=nan, monotone_constraints=&#x27;()&#x27;, n_estimators=100,\n",
       "              n_jobs=-1, num_parallel_tree=1, predictor=&#x27;auto&#x27;, random_state=42,\n",
       "              reg_alpha=0, reg_lambda=1, ...)</pre><b>In a Jupyter environment, please rerun this cell to show the HTML representation or trust the notebook. <br />On GitHub, the HTML representation is unable to render, please try loading this page with nbviewer.org.</b></div><div class=\"sk-container\" hidden><div class=\"sk-item\"><div class=\"sk-estimator sk-toggleable\"><input class=\"sk-toggleable__control sk-hidden--visually\" id=\"sk-estimator-id-1\" type=\"checkbox\" checked><label for=\"sk-estimator-id-1\" class=\"sk-toggleable__label sk-toggleable__label-arrow\">XGBClassifier</label><div class=\"sk-toggleable__content\"><pre>XGBClassifier(base_score=0.5, booster=&#x27;gbtree&#x27;, callbacks=None,\n",
       "              colsample_bylevel=1, colsample_bynode=1, colsample_bytree=1,\n",
       "              early_stopping_rounds=None, enable_categorical=False,\n",
       "              eval_metric=None, gamma=0, gpu_id=-1, grow_policy=&#x27;depthwise&#x27;,\n",
       "              importance_type=None, interaction_constraints=&#x27;&#x27;,\n",
       "              learning_rate=0.300000012, max_bin=256, max_cat_to_onehot=4,\n",
       "              max_delta_step=0, max_depth=6, max_leaves=0, min_child_weight=1,\n",
       "              missing=nan, monotone_constraints=&#x27;()&#x27;, n_estimators=100,\n",
       "              n_jobs=-1, num_parallel_tree=1, predictor=&#x27;auto&#x27;, random_state=42,\n",
       "              reg_alpha=0, reg_lambda=1, ...)</pre></div></div></div></div></div>"
      ],
      "text/plain": [
       "XGBClassifier(base_score=0.5, booster='gbtree', callbacks=None,\n",
       "              colsample_bylevel=1, colsample_bynode=1, colsample_bytree=1,\n",
       "              early_stopping_rounds=None, enable_categorical=False,\n",
       "              eval_metric=None, gamma=0, gpu_id=-1, grow_policy='depthwise',\n",
       "              importance_type=None, interaction_constraints='',\n",
       "              learning_rate=0.300000012, max_bin=256, max_cat_to_onehot=4,\n",
       "              max_delta_step=0, max_depth=6, max_leaves=0, min_child_weight=1,\n",
       "              missing=nan, monotone_constraints='()', n_estimators=100,\n",
       "              n_jobs=-1, num_parallel_tree=1, predictor='auto', random_state=42,\n",
       "              reg_alpha=0, reg_lambda=1, ...)"
      ]
     },
     "execution_count": 24,
     "metadata": {},
     "output_type": "execute_result"
    }
   ],
   "source": [
    "xgb= XGBClassifier(random_state=seed,n_jobs=-1)\n",
    "eval_set = [(X_test,y_test)]\n",
    "xgb.fit(X_train,y_train,early_stopping_rounds=10,eval_metric=\"logloss\",eval_set=eval_set,verbose=True)"
   ]
  },
  {
   "cell_type": "code",
   "execution_count": 25,
   "id": "108db707",
   "metadata": {},
   "outputs": [],
   "source": [
    "params = {\n",
    "    'n_estimators': [100, 200, 500, 1000],\n",
    "    'max_depth': [1,2,3,4,5,6],\n",
    "    'learning_rate':[0.001,0.01,0.1,1,10],\n",
    "    'subsample':[0.3,0.5,0.7],\n",
    "    'colsample_bytree':[0.3,0.5,0.7],\n",
    "    'reg_alpha ':[0.05,0.1,0.3,1,5],\n",
    "    'gamma':[0,1,5]\n",
    "}"
   ]
  },
  {
   "cell_type": "markdown",
   "id": "4fc5cd0f",
   "metadata": {},
   "source": [
    "# accuracy score"
   ]
  },
  {
   "cell_type": "code",
   "execution_count": 26,
   "id": "079b9817",
   "metadata": {},
   "outputs": [
    {
     "data": {
      "text/plain": [
       "0.7645650438946529"
      ]
     },
     "execution_count": 26,
     "metadata": {},
     "output_type": "execute_result"
    }
   ],
   "source": [
    "from sklearn.metrics import accuracy_score\n",
    "pred = xgb.predict(X_test)\n",
    "accuracy_score(y_test, pred)"
   ]
  },
  {
   "cell_type": "markdown",
   "id": "c7e1f3e7",
   "metadata": {},
   "source": [
    "#### To increase accuracy of XGBoost,its hyperparametres can be tuned further "
   ]
  },
  {
   "cell_type": "markdown",
   "id": "111525d5",
   "metadata": {},
   "source": [
    "# comparisons of all the models "
   ]
  },
  {
   "cell_type": "code",
   "execution_count": 29,
   "id": "4b10257a",
   "metadata": {},
   "outputs": [
    {
     "data": {
      "text/html": [
       "<div>\n",
       "<style scoped>\n",
       "    .dataframe tbody tr th:only-of-type {\n",
       "        vertical-align: middle;\n",
       "    }\n",
       "\n",
       "    .dataframe tbody tr th {\n",
       "        vertical-align: top;\n",
       "    }\n",
       "\n",
       "    .dataframe thead th {\n",
       "        text-align: right;\n",
       "    }\n",
       "</style>\n",
       "<table border=\"1\" class=\"dataframe\">\n",
       "  <thead>\n",
       "    <tr style=\"text-align: right;\">\n",
       "      <th></th>\n",
       "      <th>Model</th>\n",
       "      <th>Accuracy</th>\n",
       "    </tr>\n",
       "  </thead>\n",
       "  <tbody>\n",
       "    <tr>\n",
       "      <th>0</th>\n",
       "      <td>Decision Tree</td>\n",
       "      <td>0.6983</td>\n",
       "    </tr>\n",
       "    <tr>\n",
       "      <th>1</th>\n",
       "      <td>Random Forest</td>\n",
       "      <td>0.7545</td>\n",
       "    </tr>\n",
       "    <tr>\n",
       "      <th>2</th>\n",
       "      <td>Logistic Regression</td>\n",
       "      <td>0.6730</td>\n",
       "    </tr>\n",
       "    <tr>\n",
       "      <th>3</th>\n",
       "      <td>GradientBoost</td>\n",
       "      <td>0.7474</td>\n",
       "    </tr>\n",
       "    <tr>\n",
       "      <th>4</th>\n",
       "      <td>XgBoost</td>\n",
       "      <td>0.7645</td>\n",
       "    </tr>\n",
       "  </tbody>\n",
       "</table>\n",
       "</div>"
      ],
      "text/plain": [
       "                 Model  Accuracy\n",
       "0        Decision Tree    0.6983\n",
       "1        Random Forest    0.7545\n",
       "2  Logistic Regression    0.6730\n",
       "3        GradientBoost    0.7474\n",
       "4              XgBoost    0.7645"
      ]
     },
     "execution_count": 29,
     "metadata": {},
     "output_type": "execute_result"
    }
   ],
   "source": [
    "table=pd.DataFrame({\n",
    "        \"Model\":['Decision Tree','Random Forest','Logistic Regression','GradientBoost','XgBoost'],\n",
    "        \"Accuracy\":[0.6983,0.7545,0.673,0.7474,0.7645]\n",
    "})\n",
    "table"
   ]
  },
  {
   "cell_type": "code",
   "execution_count": 30,
   "id": "e774b6b3",
   "metadata": {},
   "outputs": [
    {
     "data": {
      "text/plain": [
       "<AxesSubplot:xlabel='Model', ylabel='Accuracy'>"
      ]
     },
     "execution_count": 30,
     "metadata": {},
     "output_type": "execute_result"
    },
    {
     "data": {
      "image/png": "[encoded data removed]",
      "text/plain": [
       "<Figure size 1080x720 with 1 Axes>"
      ]
     },
     "metadata": {
      "needs_background": "light"
     },
     "output_type": "display_data"
    }
   ],
   "source": [
    "import seaborn as sns\n",
    "fig, axes = plt.subplots(1, 1, figsize=(15, 10))\n",
    "\n",
    "fig.suptitle('Comparison of different Models')\n",
    "\n",
    "sns.barplot(data=table, x='Model', y='Accuracy')"
   ]
  },
  {
   "cell_type": "markdown",
   "id": "5a647a95",
   "metadata": {},
   "source": [
    "# Conclusion and Scope of Further Improvements "
   ]
  },
  {
   "cell_type": "markdown",
   "id": "bab2873d",
   "metadata": {},
   "source": [
    "#### 1. hyparameters of  XGBoost can be tuned further..\n",
    "\n",
    "#### 2. I havenot used Adaboost and CATBoost here, which can be used further to evaluate accuracy on that.\n",
    "\n",
    "\n",
    "#### 3. After getting a good accuracy on test dataset as well as training dataset, and consulting with clients the model can finally be deployed. "
   ]
  },
  {
   "cell_type": "code",
   "execution_count": null,
   "id": "1b589f82",
   "metadata": {},
   "outputs": [],
   "source": []
  }
 ],
 "metadata": {
  "kernelspec": {
   "display_name": "Python 3 (ipykernel)",
   "language": "python",
   "name": "python3"
  },
  "language_info": {
   "codemirror_mode": {
    "name": "ipython",
    "version": 3
   },
   "file_extension": ".py",
   "mimetype": "text/x-python",
   "name": "python",
   "nbconvert_exporter": "python",
   "pygments_lexer": "ipython3",
   "version": "3.9.7"
  }
 },
 "nbformat": 4,
 "nbformat_minor": 5
}
